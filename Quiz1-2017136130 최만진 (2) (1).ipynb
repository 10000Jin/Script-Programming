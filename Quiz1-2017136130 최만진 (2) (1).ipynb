{
 "cells": [
  {
   "cell_type": "markdown",
   "metadata": {},
   "source": [
    "Q1"
   ]
  },
  {
   "cell_type": "markdown",
   "metadata": {},
   "source": [
    "1000 ~ 9999 까지(1000과 9999도 계산에 포함)의 네 자리 숫자 가운데에 '10'을 포함하는 숫자의 갯수는?\n"
   ]
  },
  {
   "cell_type": "markdown",
   "metadata": {},
   "source": [
    "Answer1"
   ]
  },
  {
   "cell_type": "code",
   "execution_count": 40,
   "metadata": {
    "scrolled": false
   },
   "outputs": [
    {
     "name": "stdout",
     "output_type": "stream",
     "text": [
      "279\n"
     ]
    }
   ],
   "source": [
    "a = list(map(str, range(1000, 10000)))    # 1000~9999의 수를 문자열로 list로 만들어 a에 저장\n",
    "count = 0                                 # 횟수를 세기 위한 변수 count를 0으로 초기화\n",
    "\n",
    "for i in range(9000):                    # 1000~9999를 비교하기 위해 9000번 반복\n",
    "    if '10' in a[i] :                    # 만약 a[i] 번지의 수가 10을 포함하면\n",
    "        count += 1                       # count를 1씩 증가\n",
    "print(count)"
   ]
  },
  {
   "cell_type": "markdown",
   "metadata": {},
   "source": [
    " "
   ]
  },
  {
   "cell_type": "markdown",
   "metadata": {},
   "source": [
    "Q2"
   ]
  },
  {
   "cell_type": "markdown",
   "metadata": {},
   "source": [
    "10 ~ 99999 까지(10과 99999도 계산에 포함)의 숫자 가운데에 20의 배수이며 '080'을 포함하는 숫자의 갯수는?"
   ]
  },
  {
   "cell_type": "markdown",
   "metadata": {},
   "source": [
    "Answer2"
   ]
  },
  {
   "cell_type": "code",
   "execution_count": 46,
   "metadata": {
    "scrolled": true
   },
   "outputs": [
    {
     "name": "stdout",
     "output_type": "stream",
     "text": [
      "108\n"
     ]
    }
   ],
   "source": [
    "a = list(map(str, range(10, 100000)))                # 10~99999의 수를 문자열로 list로 만들어 a에 저장\n",
    "count = 0                                            # 횟수를 세기 위한 변수 count를 0으로 초기화\n",
    "\n",
    "for i in range(99990):                               # 10~99999를 비교하기 위해 99990번 반복\n",
    "    if '080' in a[i] and int(a[i]) % 20 == 0:       # 만약 a[i] 번지의 수가 10을 포함하고 정수형인 a[i] 번지가 20으로 나눠지면\n",
    "        count += 1                                  # count를 1씩 증가  \n",
    "print(count)"
   ]
  },
  {
   "cell_type": "markdown",
   "metadata": {},
   "source": []
  },
  {
   "cell_type": "markdown",
   "metadata": {},
   "source": [
    "Q3"
   ]
  },
  {
   "cell_type": "markdown",
   "metadata": {},
   "source": [
    "d = {'Hospital':0, 'PostOffice':1, 'Phamacy':2, 'School':3, 'Home':4, 'Convenience':5, 'DepartmentStore':6, 'BeautySalon':7, 'Lotteria':8}는 사전 자료형이며, 각 element의 key는 건물 이름을 의미하고 value는 아래 'map'에서 건물의 위치를 의미한다. '철수'는 매일 집에서 09:00에 나와서 정확히 30분마다 인접한 건물로 이동한다고 했을 때, 18:00에 'Hospital'에 있을 확률 p(0.0 <= p <= 1.0)는 얼마인가?\n",
    "'철수'는 30분마다 꼭 인접한 건물로 이동해야하며(같은 건물에 30분을 초과하여 체류할 수 없음) 대각선에 위치한 건물로는 이동할 수 없다고 가정한다."
   ]
  },
  {
   "cell_type": "code",
   "execution_count": 7,
   "metadata": {},
   "outputs": [
    {
     "name": "stdout",
     "output_type": "stream",
     "text": [
      "{'Hospital': 0, 'PostOffice': 1, 'Phamacy': 2, 'School': 3, 'Home': 4, 'Convenience': 5, 'DepartmentStore': 6, 'BeautySalon': 7, 'Lotteria': 8}\n"
     ]
    }
   ],
   "source": [
    "d = {'Hospital':0, 'PostOffice':1, 'Phamacy':2, 'School':3, 'Home':4, 'Convenience':5, 'DepartmentStore':6, 'BeautySalon':7, 'Lotteria':8}\n",
    "print(d)"
   ]
  },
  {
   "cell_type": "markdown",
   "metadata": {},
   "source": [
    "Answer3"
   ]
  },
  {
   "cell_type": "code",
   "execution_count": 18,
   "metadata": {},
   "outputs": [
    {
     "name": "stdout",
     "output_type": "stream",
     "text": [
      "[[0, 0, 0], [0, 0, 0], [0, 0, 0]]\n",
      "[[0, 0, 0], [0, 1, 0], [0, 0, 0]]\n"
     ]
    },
    {
     "ename": "NameError",
     "evalue": "name 'j' is not defined",
     "output_type": "error",
     "traceback": [
      "\u001b[1;31m---------------------------------------------------------------------------\u001b[0m",
      "\u001b[1;31mNameError\u001b[0m                                 Traceback (most recent call last)",
      "\u001b[1;32m<ipython-input-18-474f6012117c>\u001b[0m in \u001b[0;36m<module>\u001b[1;34m\u001b[0m\n\u001b[0;32m     52\u001b[0m \u001b[1;33m\u001b[0m\u001b[0m\n\u001b[0;32m     53\u001b[0m \u001b[1;32mfor\u001b[0m \u001b[0mi\u001b[0m \u001b[1;32min\u001b[0m \u001b[0mrange\u001b[0m\u001b[1;33m(\u001b[0m\u001b[1;36m18\u001b[0m\u001b[1;33m)\u001b[0m\u001b[1;33m:\u001b[0m\u001b[1;33m\u001b[0m\u001b[1;33m\u001b[0m\u001b[0m\n\u001b[1;32m---> 54\u001b[1;33m     \u001b[0ma\u001b[0m \u001b[1;33m=\u001b[0m \u001b[0mout\u001b[0m\u001b[1;33m(\u001b[0m\u001b[0mnum\u001b[0m\u001b[1;33m)\u001b[0m\u001b[1;33m\u001b[0m\u001b[1;33m\u001b[0m\u001b[0m\n\u001b[0m\u001b[0;32m     55\u001b[0m     \u001b[1;32mif\u001b[0m \u001b[0ma\u001b[0m \u001b[1;33m==\u001b[0m \u001b[1;36m0\u001b[0m\u001b[1;33m:\u001b[0m\u001b[1;33m\u001b[0m\u001b[1;33m\u001b[0m\u001b[0m\n\u001b[0;32m     56\u001b[0m         \u001b[1;32mcontinue\u001b[0m\u001b[1;33m\u001b[0m\u001b[1;33m\u001b[0m\u001b[0m\n",
      "\u001b[1;32m<ipython-input-18-474f6012117c>\u001b[0m in \u001b[0;36mout\u001b[1;34m(b)\u001b[0m\n\u001b[0;32m      2\u001b[0m \u001b[1;33m\u001b[0m\u001b[0m\n\u001b[0;32m      3\u001b[0m \u001b[1;32mdef\u001b[0m \u001b[0mout\u001b[0m\u001b[1;33m(\u001b[0m\u001b[0mb\u001b[0m\u001b[1;33m)\u001b[0m\u001b[1;33m:\u001b[0m\u001b[1;33m\u001b[0m\u001b[1;33m\u001b[0m\u001b[0m\n\u001b[1;32m----> 4\u001b[1;33m     \u001b[1;32mif\u001b[0m \u001b[0mi\u001b[0m \u001b[1;33m==\u001b[0m \u001b[1;36m0\u001b[0m \u001b[1;32mand\u001b[0m \u001b[0mj\u001b[0m \u001b[1;33m==\u001b[0m \u001b[1;36m0\u001b[0m\u001b[1;33m:\u001b[0m\u001b[1;33m\u001b[0m\u001b[1;33m\u001b[0m\u001b[0m\n\u001b[0m\u001b[0;32m      5\u001b[0m         \u001b[1;32mif\u001b[0m \u001b[0mb\u001b[0m \u001b[1;33m==\u001b[0m \u001b[1;36m0\u001b[0m \u001b[1;32mor\u001b[0m \u001b[0mb\u001b[0m \u001b[1;33m==\u001b[0m \u001b[1;36m3\u001b[0m\u001b[1;33m:\u001b[0m\u001b[1;33m\u001b[0m\u001b[1;33m\u001b[0m\u001b[0m\n\u001b[0;32m      6\u001b[0m             \u001b[1;32mreturn\u001b[0m \u001b[1;36m0\u001b[0m\u001b[1;33m\u001b[0m\u001b[1;33m\u001b[0m\u001b[0m\n",
      "\u001b[1;31mNameError\u001b[0m: name 'j' is not defined"
     ]
    }
   ],
   "source": [
    "import random\n",
    "\n",
    "def out(b):\n",
    "    if i == 0 and j == 0:\n",
    "        if b == 0 or b == 3:\n",
    "            return 0\n",
    "    elif i == 0 and j == 1:\n",
    "        if b == 0:\n",
    "            return 0\n",
    "    elif i == 0 and j == 2:\n",
    "        if b == 0 or b == 1:\n",
    "            return 0\n",
    "    elif i == 1 and j == 0:\n",
    "        if b == 3:\n",
    "            return 0\n",
    "    elif i == 1 and j == 2:\n",
    "        if b == 1:\n",
    "            return 0\n",
    "    elif i == 2 and j == 0:\n",
    "        if b == 2 or b == 3:\n",
    "            return 0\n",
    "    elif i == 2 and j == 1:\n",
    "        if b == 2:\n",
    "            return 0\n",
    "    elif i == 2 and j == 2:\n",
    "        if b == 1 or b == 2:\n",
    "            return 0\n",
    "    else:\n",
    "        return 1\n",
    "    \n",
    "    \n",
    "def move(a):\n",
    "    if a == 0:\n",
    "        i -= 1\n",
    "        map[i][j] += 1\n",
    "    elif a == 1:\n",
    "        j += 1\n",
    "        map[i][j] += 1\n",
    "    elif a == 2:\n",
    "        i += 1\n",
    "        map[i][j] += 1\n",
    "    elif a == 3:\n",
    "        j -= 1\n",
    "        map[i][j] += 1\n",
    "\n",
    "        \n",
    "map = [[0 for i in range(3)] for j in range(3)]\n",
    "print(map)\n",
    "map[1][1] = 1\n",
    "print(map)\n",
    "num = random.randint(0, 3)\n",
    "\n",
    "for i in range(18):\n",
    "    a = out(num)\n",
    "    if a == 0:\n",
    "        continue\n",
    "    num.move()\n",
    "print(map)\n",
    "whole = sum(map[0]) + sum(map[1]) +sum(map[2])\n",
    "\n",
    "print(\"전체 경우의 수 : \", whole)\n",
    "print(\"Hospital에 있을 경우의 수 : \", map[0][0])\n",
    "print(\"Hospital에 있을 확률 : %f\" % (map[0][0] / whole))\n",
    " "
   ]
  },
  {
   "cell_type": "code",
   "execution_count": null,
   "metadata": {},
   "outputs": [],
   "source": []
  },
  {
   "cell_type": "code",
   "execution_count": null,
   "metadata": {},
   "outputs": [],
   "source": []
  }
 ],
 "metadata": {
  "kernelspec": {
   "display_name": "Python 3",
   "language": "python",
   "name": "python3"
  },
  "language_info": {
   "codemirror_mode": {
    "name": "ipython",
    "version": 3
   },
   "file_extension": ".py",
   "mimetype": "text/x-python",
   "name": "python",
   "nbconvert_exporter": "python",
   "pygments_lexer": "ipython3",
   "version": "3.8.3"
  }
 },
 "nbformat": 4,
 "nbformat_minor": 4
}
