{
 "cells": [
  {
   "cell_type": "markdown",
   "metadata": {},
   "source": [
    "2017136130 최만진"
   ]
  },
  {
   "cell_type": "markdown",
   "metadata": {},
   "source": [
    "Q1"
   ]
  },
  {
   "cell_type": "markdown",
   "metadata": {},
   "source": [
    "1000 ~ 9999 까지(1000과 9999도 계산에 포함)의 네 자리 숫자 가운데에 '10'을 포함하는 숫자의 갯수는?\n"
   ]
  },
  {
   "cell_type": "markdown",
   "metadata": {},
   "source": [
    "Answer1"
   ]
  },
  {
   "cell_type": "code",
   "execution_count": 40,
   "metadata": {
    "scrolled": false
   },
   "outputs": [
    {
     "name": "stdout",
     "output_type": "stream",
     "text": [
      "279\n"
     ]
    }
   ],
   "source": [
    "a = list(map(str, range(1000, 10000)))    # 1000~9999의 수를 문자열로 list로 만들어 a에 저장\n",
    "count = 0                                 # 횟수를 세기 위한 변수 count를 0으로 초기화\n",
    "\n",
    "for i in range(9000):                    # 1000~9999를 비교하기 위해 9000번 반복\n",
    "    if '10' in a[i] :                    # 만약 a[i] 번지의 수가 10을 포함하면\n",
    "        count += 1                       # count를 1씩 증가\n",
    "print(count)"
   ]
  },
  {
   "cell_type": "markdown",
   "metadata": {},
   "source": [
    " "
   ]
  },
  {
   "cell_type": "markdown",
   "metadata": {},
   "source": [
    "Q2"
   ]
  },
  {
   "cell_type": "markdown",
   "metadata": {},
   "source": [
    "10 ~ 99999 까지(10과 99999도 계산에 포함)의 숫자 가운데에 20의 배수이며 '080'을 포함하는 숫자의 갯수는?"
   ]
  },
  {
   "cell_type": "markdown",
   "metadata": {},
   "source": [
    "Answer2"
   ]
  },
  {
   "cell_type": "code",
   "execution_count": 46,
   "metadata": {
    "scrolled": true
   },
   "outputs": [
    {
     "name": "stdout",
     "output_type": "stream",
     "text": [
      "108\n"
     ]
    }
   ],
   "source": [
    "a = list(map(str, range(10, 100000)))                # 10~99999의 수를 문자열로 list로 만들어 a에 저장\n",
    "count = 0                                            # 횟수를 세기 위한 변수 count를 0으로 초기화\n",
    "\n",
    "for i in range(99990):                               # 10~99999를 비교하기 위해 99990번 반복\n",
    "    if '080' in a[i] and int(a[i]) % 20 == 0:       # 만약 a[i] 번지의 수가 10을 포함하고 정수형인 a[i] 번지가 20으로 나눠지면\n",
    "        count += 1                                  # count를 1씩 증가  \n",
    "print(count)"
   ]
  },
  {
   "cell_type": "markdown",
   "metadata": {},
   "source": []
  },
  {
   "cell_type": "markdown",
   "metadata": {},
   "source": [
    "Q3"
   ]
  },
  {
   "cell_type": "markdown",
   "metadata": {},
   "source": [
    "d = {'Hospital':0, 'PostOffice':1, 'Phamacy':2, 'School':3, 'Home':4, 'Convenience':5, 'DepartmentStore':6, 'BeautySalon':7, 'Lotteria':8}는 사전 자료형이며, 각 element의 key는 건물 이름을 의미하고 value는 아래 'map'에서 건물의 위치를 의미한다. '철수'는 매일 집에서 09:00에 나와서 정확히 30분마다 인접한 건물로 이동한다고 했을 때, 18:00에 'Hospital'에 있을 확률 p(0.0 <= p <= 1.0)는 얼마인가?\n",
    "'철수'는 30분마다 꼭 인접한 건물로 이동해야하며(같은 건물에 30분을 초과하여 체류할 수 없음) 대각선에 위치한 건물로는 이동할 수 없다고 가정한다."
   ]
  },
  {
   "cell_type": "code",
   "execution_count": 7,
   "metadata": {},
   "outputs": [
    {
     "name": "stdout",
     "output_type": "stream",
     "text": [
      "{'Hospital': 0, 'PostOffice': 1, 'Phamacy': 2, 'School': 3, 'Home': 4, 'Convenience': 5, 'DepartmentStore': 6, 'BeautySalon': 7, 'Lotteria': 8}\n"
     ]
    }
   ],
   "source": [
    "d = {'Hospital':0, 'PostOffice':1, 'Phamacy':2, 'School':3, 'Home':4, 'Convenience':5, 'DepartmentStore':6, 'BeautySalon':7, 'Lotteria':8}\n",
    "print(d)"
   ]
  },
  {
   "cell_type": "markdown",
   "metadata": {},
   "source": [
    "Answer3"
   ]
  },
  {
   "cell_type": "code",
   "execution_count": 54,
   "metadata": {},
   "outputs": [
    {
     "name": "stdout",
     "output_type": "stream",
     "text": [
      "전체 경우의 수 : 201326592\n",
      "Hospital에 있을 경우의 수 : 33554432\n",
      "Hospital에 있을 확률 : 0.166667%\n"
     ]
    }
   ],
   "source": [
    "def move(m, i, j):                                                           # 철수가 갈수 있는 경우의 수를 반환하는 함수\n",
    "    num = 0                                                                  # 경우의 수를 저장할 num변수 0으로 초기화\n",
    "    if i == 0:                                                               # 행번호가 0이고\n",
    "        if j == 0:                                                           # 열번호가 0이면\n",
    "            num += (m[i+1][j] + m[i][j+1])                                   # 오른쪽, 아래 이동가능\n",
    "        elif j == 1:                                                         # 열번호가 1이면\n",
    "            num += (m[i][j-1] + m[i+1][j] + m[i][j+1])                      # 왼쪽, 오른쪽, 아래 이동가능\n",
    "        elif j == 2:                                                        # 열번호가 2면\n",
    "            num += (m[i][j-1] + m[i+1][j])                                  # 왼쪽, 아래 이동가능\n",
    "    if i == 1:\n",
    "        if j == 0:\n",
    "            num += (m[i-1][j] + m[i+1][j] + m[i][j+1])\n",
    "        elif j == 1:\n",
    "            num += (m[i][j-1] + m[i+1][j] + m[i][j+1] + m[i-1][j])\n",
    "        elif j == 2:\n",
    "            num += (m[i][j-1] + m[i-1][j] + m[i+1][j])\n",
    "    if i == 2:\n",
    "        if j == 0:\n",
    "            num += (m[i-1][j] + m[i][j+1])\n",
    "        elif j == 1:\n",
    "            num += (m[i][j-1] + m[i][j+1] + m[i-1][j])\n",
    "        elif j == 2:\n",
    "            num += (m[i][j-1] + m[i-1][j])\n",
    "    return num                                                             # num 반환\n",
    "    \n",
    "\n",
    "\n",
    "map = [[0, 0, 0], [0, 1, 0], [0, 0, 0]]                                    # 초기에 철수가 집에 있을때의 map\n",
    "new_map = [[0, 0, 0], [0, 0, 0], [0, 0, 0]]                  # 30분마다 철수가 각 장소를 갈 경우의 수를 표시할 0으로 초기화된 map\n",
    "whole = 0                                                                  # 전체 경우의 수를 저장할 변수\n",
    "\n",
    "for x in range(18):                                                       # 9시부터 18시까지 30분마다 = 18번 이동\n",
    "    ex_map = map                                                          # 현재의 map을 이전 map에 저장\n",
    "    for i in range(3):\n",
    "        for j in range(3):                                                # 2중 for문을 사용\n",
    "            new_map[i][j] = move(ex_map, i, j)                          # move함수를 호출해 원래의 map에서 철수가 각 장소에 갈수 있는\n",
    "                                                                        # 경우의 수를 받아와 새로운 map의 각 번지수에 저장\n",
    "    map = new_map                                                       # 30분이 지나면 다음 30분후를 위한 반복에 필요한 ex_map을 \n",
    "                                                                        # 위해 new_map을 map에 저장\n",
    "    if x != 17:                                       \n",
    "        new_map = [[0, 0, 0], [0, 0, 0], [0, 0, 0]]                    # new_map은 철수가 갈수 있는 장소의 경우의 수를 저장하는 \n",
    "                                                                       # 빈 map이므로 다음 30분후를 위한 반복을 실행하기 전 다시 빈\n",
    "                                                                       # 즉 0으로 초기화된 리스트로 만듦\n",
    "                                                                       # 마지막 17번째엔 new_map의 값이 필요하므로 if문으로  \n",
    "                                                                       # x가 17이 아닐때만 초기화를 함\n",
    "\n",
    "for x in new_map:                                                     # 2중 for문으로 new_map의 각 번지수의 값을 \n",
    "    for y in x:                                                       # whole에 더함\n",
    "        whole += y\n",
    "\n",
    "print(\"전체 경우의 수 :\", whole)\n",
    "print(\"Hospital에 있을 경우의 수 :\", new_map[0][0])\n",
    "print(\"Hospital에 있을 확률 : %f\" % (new_map[0][0] / whole), end = \"\")\n",
    "print(\"%\")"
   ]
  }
 ],
 "metadata": {
  "kernelspec": {
   "display_name": "Python 3",
   "language": "python",
   "name": "python3"
  },
  "language_info": {
   "codemirror_mode": {
    "name": "ipython",
    "version": 3
   },
   "file_extension": ".py",
   "mimetype": "text/x-python",
   "name": "python",
   "nbconvert_exporter": "python",
   "pygments_lexer": "ipython3",
   "version": "3.8.3"
  }
 },
 "nbformat": 4,
 "nbformat_minor": 4
}
