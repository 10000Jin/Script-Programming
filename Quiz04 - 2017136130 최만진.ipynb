{
 "cells": [
  {
   "cell_type": "markdown",
   "metadata": {},
   "source": [
    "2017136130 최만진"
   ]
  },
  {
   "cell_type": "markdown",
   "metadata": {},
   "source": [
    "## Quiz\n",
    "\n",
    "### 나만의 deque 자료구조 만들기\n",
    "\n",
    "#### Python list 관련 함수만을 활용할 것\n",
    "\n",
    "#### mydeque = MyDeque(): 덱 생성\n",
    "\n",
    "#### mydeque.func(\"push_front X\"): 정수 X를 덱의 앞에 넣는다.\n",
    "#### mydeque.func(\"push_back X\"): 정수 X를 덱의 뒤에 넣는다.\n",
    "#### mydeque.func(\"pop_front\"): 덱의 가장 앞에 있는 수를 빼고, 그 수를 출력한다. 만약, 덱에 들어있는 정수가 없는 경우에는 -1을 출력한다.\n",
    "#### mydeque.func(\"pop_back\"): 덱의 가장 뒤에 있는 수를 빼고, 그 수를 출력한다. 만약, 덱에 들어있는 정수가 없는 경우에는 -1을 출력한다.\n",
    "#### mydeque.func(\"size\"): 덱에 들어있는 정수의 개수를 출력한다.\n",
    "#### mydeque.func(\"empty\"): 덱이 비어있으면 1을, 아니면 0을 출력한다.\n",
    "#### mydeque.func(\"front\"): 덱의 가장 앞에 있는 정수를 출력한다. 만약 덱에 들어있는 정수가 없는 경우에는 -1을 출력한다.\n",
    "#### mydeque.func(\"back\"): 덱의 가장 뒤에 있는 정수를 출력한다. 만약 덱에 들어있는 정수가 없는 경우에는 -1을 출력한다.\n",
    "\n",
    "#### print(mydeque): 현재 덱 출력\n",
    "#### mydeque: 현재 덱 출력\n",
    "#### 현재 덱 출력 결과: e.g. 덱에 들어있는 값이 1, 2, 3 정수들일때 --> mydeque([1, 2, 3])\n",
    "\n",
    "#### 본인이 만든 deque 모든 함수들의 사용예시 각자 제시할 것"
   ]
  },
  {
   "cell_type": "code",
   "execution_count": null,
   "metadata": {},
   "outputs": [],
   "source": []
  },
  {
   "cell_type": "code",
   "execution_count": 1,
   "metadata": {},
   "outputs": [],
   "source": [
    "class MyDeque:\n",
    "    def __init__(self):\n",
    "        self.item = []\n",
    "\n",
    "    def func(self, com):\n",
    "        com_list = []\n",
    "        com_list = com.split(\" \")\n",
    "\n",
    "        if com_list[0] == \"push_front\":\n",
    "            self.item.insert(0, com_list[1])\n",
    "\n",
    "        elif com_list[0] == \"push_back\":\n",
    "            self.item.append(com_list[1])\n",
    "\n",
    "        elif com_list[0] == \"pop_front\":\n",
    "            if len(self.item) == 0:\n",
    "                return -1\n",
    "            else:\n",
    "                return self.item.pop(0)\n",
    "\n",
    "        elif com_list[0] == \"pop_back\":\n",
    "            if len(self.item) == 0:\n",
    "                return -1\n",
    "            else:\n",
    "                return self.item.pop(-1)\n",
    "\n",
    "        elif com_list[0] == \"size\":\n",
    "            return len(self.item)\n",
    "\n",
    "        elif com_list[0] == \"empty\":\n",
    "            if len(self.item) == 0:\n",
    "                return 1\n",
    "            else:\n",
    "                return 0\n",
    "\n",
    "        elif com_list[0] == \"front\":\n",
    "            if len(self.item) == 0:\n",
    "                return -1\n",
    "            else:\n",
    "                return self.item[0]\n",
    "\n",
    "        elif com_list[0] == \"back\":\n",
    "            if len(self.item) == 0:\n",
    "                return -1\n",
    "            else:\n",
    "                return self.item[-1]\n",
    "            \n",
    "        elif com_list[0] == \"clear\":\n",
    "            self.item = []\n",
    "\n",
    "    def __str__(self):\n",
    "        return \"mydeque([{}])\".format(\",\".join(self.item))\n",
    "\n",
    "    def __repr__(self):\n",
    "        return \"mydeque([{}])\".format(\",\".join(self.item))\n",
    "    "
   ]
  },
  {
   "cell_type": "code",
   "execution_count": 26,
   "metadata": {},
   "outputs": [
    {
     "name": "stdout",
     "output_type": "stream",
     "text": [
      "mydeque([])\n"
     ]
    },
    {
     "data": {
      "text/plain": [
       "mydeque([])"
      ]
     },
     "execution_count": 26,
     "metadata": {},
     "output_type": "execute_result"
    }
   ],
   "source": [
    "mydeque = MyDeque()\n",
    "print(mydeque)\n",
    "mydeque"
   ]
  },
  {
   "cell_type": "code",
   "execution_count": 42,
   "metadata": {},
   "outputs": [],
   "source": [
    "mydeque.func(\"clear\")"
   ]
  },
  {
   "cell_type": "code",
   "execution_count": 43,
   "metadata": {},
   "outputs": [
    {
     "name": "stdout",
     "output_type": "stream",
     "text": [
      "mydeque([8,5,3,1,6])\n",
      "mydeque의 size :  5\n",
      "Empty? (empty = 1, not empty = 0) :  0\n"
     ]
    }
   ],
   "source": [
    "mydeque.func(\"push_front 3\")\n",
    "mydeque.func(\"push_front 5\")\n",
    "mydeque.func(\"push_back 1\")\n",
    "mydeque.func(\"push_front 8\")\n",
    "mydeque.func(\"push_back 6\")\n",
    "print(mydeque)\n",
    "\n",
    "print(\"mydeque의 size : \", mydeque.func(\"size\"))\n",
    "print(\"Empty? (empty = 1, not empty = 0) : \", mydeque.func(\"empty\"))"
   ]
  },
  {
   "cell_type": "code",
   "execution_count": 44,
   "metadata": {},
   "outputs": [
    {
     "name": "stdout",
     "output_type": "stream",
     "text": [
      "pop_front :  8\n",
      "pop_back :  6\n",
      "mydeque의 size :  3\n"
     ]
    }
   ],
   "source": [
    "print(\"pop_front : \", mydeque.func(\"pop_front\"))\n",
    "print(\"pop_back : \", mydeque.func(\"pop_back\"))\n",
    "print(\"mydeque의 size : \", mydeque.func(\"size\"))"
   ]
  },
  {
   "cell_type": "code",
   "execution_count": 45,
   "metadata": {},
   "outputs": [
    {
     "data": {
      "text/plain": [
       "mydeque([5,3,1])"
      ]
     },
     "execution_count": 45,
     "metadata": {},
     "output_type": "execute_result"
    }
   ],
   "source": [
    "mydeque"
   ]
  },
  {
   "cell_type": "code",
   "execution_count": 46,
   "metadata": {},
   "outputs": [
    {
     "name": "stdout",
     "output_type": "stream",
     "text": [
      "front :  5\n",
      "back :  1\n",
      "mydeque([5,3,1])\n"
     ]
    }
   ],
   "source": [
    "print(\"front : \", mydeque.func(\"front\"))\n",
    "print(\"back : \", mydeque.func(\"back\"))\n",
    "print(mydeque)"
   ]
  },
  {
   "cell_type": "code",
   "execution_count": 47,
   "metadata": {},
   "outputs": [
    {
     "name": "stdout",
     "output_type": "stream",
     "text": [
      "pop_front :  5\n",
      "pop_back :  1\n",
      "pop_front :  3\n",
      "mydeque([])\n",
      "mydeque의 size :  0\n",
      "Empty? (empty = 1, not empty = 0) :  1\n"
     ]
    }
   ],
   "source": [
    "print(\"pop_front : \", mydeque.func(\"pop_front\"))\n",
    "print(\"pop_back : \", mydeque.func(\"pop_back\"))\n",
    "print(\"pop_front : \", mydeque.func(\"pop_front\"))\n",
    "print(mydeque)\n",
    "print(\"mydeque의 size : \", mydeque.func(\"size\"))\n",
    "print(\"Empty? (empty = 1, not empty = 0) : \", mydeque.func(\"empty\"))"
   ]
  },
  {
   "cell_type": "code",
   "execution_count": null,
   "metadata": {},
   "outputs": [],
   "source": []
  }
 ],
 "metadata": {
  "kernelspec": {
   "display_name": "Python 3",
   "language": "python",
   "name": "python3"
  },
  "language_info": {
   "codemirror_mode": {
    "name": "ipython",
    "version": 3
   },
   "file_extension": ".py",
   "mimetype": "text/x-python",
   "name": "python",
   "nbconvert_exporter": "python",
   "pygments_lexer": "ipython3",
   "version": "3.8.3"
  }
 },
 "nbformat": 4,
 "nbformat_minor": 2
}
