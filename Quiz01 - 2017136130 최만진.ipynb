{
 "cells": [
  {
   "cell_type": "markdown",
   "metadata": {},
   "source": [
    "Quiz01 - 2017136130 최만진"
   ]
  },
  {
   "cell_type": "markdown",
   "metadata": {},
   "source": []
  },
  {
   "cell_type": "code",
   "execution_count": 1,
   "metadata": {},
   "outputs": [
    {
     "name": "stdout",
     "output_type": "stream",
     "text": [
      "높이를 입력하시오. 5\n",
      "\n",
      "정수 삼각형을 위에서부터 차례로 입력하시오. :\n",
      "7\n",
      "3 8\n",
      "8 1 0\n",
      "2 7 4 4\n",
      "4 5 2 6 5\n",
      "[[7], [3, 8], [8, 1, 0], [2, 7, 4, 4], [4, 5, 2, 6, 5]]\n",
      "수행 시간: 0.000000초\n",
      "경로의 최대값 :  30\n"
     ]
    }
   ],
   "source": [
    "import time\n",
    "\n",
    "H = int(input(\"높이를 입력하시오. \"))                                   \n",
    "\n",
    "int_triangle = []                                                       \n",
    "print(\"\\n정수 삼각형을 위에서부터 차례로 입력하시오. :\")\n",
    "for i in range(H):\n",
    "    input_ = input()\n",
    "    line = list(map(int, input_.split(' ')))\n",
    "    assert len(line) == i + 1\n",
    "    int_triangle.append(line)\n",
    "\n",
    "print(int_triangle)\n",
    "\n",
    "def findMax(H, int_triangle):\n",
    "    for floor in range(H-1, 0, -1):                                     # 삼각형의 제일 아래층부터 위층까지 역순으로\n",
    "        for i in range(floor):                                          # 해당 층의 0번 인덱스부터\n",
    "            if int_triangle[floor][i] > int_triangle[floor][i+1]:       # 왼쪽의 수가 더 크면\n",
    "                x = int_triangle[floor][i]                              # x에 왼쪽수 저장\n",
    "            else:                                                       # 오른쪽 수가 더 크거나 같으면\n",
    "                x = int_triangle[floor][i+1]                            # x에 오른쪽 수 저장\n",
    "            int_triangle[floor-1][i] += x                               # 두 수의 위에 해당하는 수에 더 큰수(x)를\n",
    "                                                                        # 더한 값을 새롭게 저장\n",
    "    return int_triangle                                                 # int_triangle 반환\n",
    "\n",
    "\n",
    "start_time = time.time()\n",
    "findMax(H, int_triangle)\n",
    "end_time = time.time()\n",
    "print(\"수행 시간: {0:3.6f}초\".format(end_time - start_time))\n",
    "print(\"경로의 최대값 : \", int_triangle[0][0])"
   ]
  },
  {
   "cell_type": "code",
   "execution_count": null,
   "metadata": {},
   "outputs": [],
   "source": []
  }
 ],
 "metadata": {
  "kernelspec": {
   "display_name": "Python 3",
   "language": "python",
   "name": "python3"
  },
  "language_info": {
   "codemirror_mode": {
    "name": "ipython",
    "version": 3
   },
   "file_extension": ".py",
   "mimetype": "text/x-python",
   "name": "python",
   "nbconvert_exporter": "python",
   "pygments_lexer": "ipython3",
   "version": "3.8.3"
  }
 },
 "nbformat": 4,
 "nbformat_minor": 4
}
