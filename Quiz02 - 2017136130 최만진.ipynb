{
 "cells": [
  {
   "cell_type": "markdown",
   "metadata": {},
   "source": [
    "Quiz02 - 2017136130 최만진"
   ]
  },
  {
   "cell_type": "markdown",
   "metadata": {},
   "source": [
    "."
   ]
  },
  {
   "cell_type": "code",
   "execution_count": 1,
   "metadata": {},
   "outputs": [
    {
     "name": "stdout",
     "output_type": "stream",
     "text": [
      "정점과 간선의 수를 각각 입력하시오. 5 6\n",
      "[[0, inf, inf, inf, inf], [inf, 0, inf, inf, inf], [inf, inf, 0, inf, inf], [inf, inf, inf, 0, inf], [inf, inf, inf, inf, 0]]\n",
      "(시작, 도착, 거리)\n",
      "5 1 1\n",
      "1 2 2\n",
      "1 3 3\n",
      "2 3 4\n",
      "2 4 5\n",
      "3 4 6\n",
      "[[0, 2, 3, inf, inf], [inf, 0, 4, 5, inf], [inf, inf, 0, 6, inf], [inf, inf, inf, 0, inf], [1, inf, inf, inf, 0]]\n",
      "수행 시간 : 0.000000초\n",
      "결과 값 : \n",
      "0\n",
      "2\n",
      "3\n",
      "7\n",
      "INF\n"
     ]
    }
   ],
   "source": [
    "import time\n",
    "\n",
    "inputs = list(map(int, input(\"정점과 간선의 수를 각각 입력하시오. \").split(' ')))\n",
    "assert len(inputs) == 2\n",
    "# V = 정점(Vertex), E = 간선(Edge)\n",
    "V, E = inputs\n",
    "\n",
    "# 모든 정점으로부터 모든 정점까지의 가중치를 담은 2차행렬\n",
    "distance_map = [[float('inf') if i != j else 0 for i in range(V)] for j in range(V)]\n",
    "print(distance_map)\n",
    "\n",
    "print(\"(시작, 도착, 거리)\")\n",
    "for i in range(E):\n",
    "    inputs = list(map(int, input().split(' ')))\n",
    "    assert len(inputs) == 3\n",
    "    u, v, w = inputs\n",
    "    distance_map[u-1][v-1] = w\n",
    "print(distance_map)\n",
    "\n",
    "\n",
    "def get_distance(start):\n",
    "    distance_list = [distance_map[start-1][v] for v in range(V)]            # distance_map에서 시작 정점에서 다른 정점까지 가중치를 \n",
    "                                                                            # distance_list에 저장\n",
    "    visited_vertices = []                                                   # 방문한 정점들을 저장할 visited_vertices 리스트 생성\n",
    "    for i in range(V):                                                      # 정점의 수 만큼 반복하면서\n",
    "        u = 0                                                               # u는 0으로 초기화\n",
    "        min_distance = float('inf')                                         # 최단 거리는 무한대로 초기화\n",
    "\n",
    "        for v in range(V):                                                  # 시작 정점에서 다른 모든 정점에 대해\n",
    "            if (distance_list[v] <= min_distance) and (v not in visited_vertices):  # 가중치가 최단거리 이하고 정점이 이미 방문한 것이 아니라면\n",
    "                u = v                                                       # u에 v저장\n",
    "                min_distance = distance_list[v]                             # 가중치를 최단 거리로 저장\n",
    "        visited_vertices.append(u)                                          # u를 방문했던 정점 리스트에 저장\n",
    "\n",
    "        for v in range(V):\n",
    "            if (distance_list[u] + distance_map[u][v] < distance_list[v]) and (v not in visited_vertices):  # 방문하지 않았던 정점이고 바로 가는 가중치보다 경유해서 \n",
    "                distance_list[v] = distance_list[u] + distance_map[u][v]    # 가는 가중치가 더 작으면 경유하는 가중치를 새로 업데이트\n",
    "    return distance_list                                                    # distance_list를 반환\n",
    "\n",
    "\n",
    "\n",
    "start_time = time.time()\n",
    "result = get_distance(1)                                                    # 시작 정점이 1일때 최단 거리 구하기\n",
    "end_time = time.time()\n",
    "print(\"수행 시간 : {0:3.6f}초\".format(end_time-start_time))\n",
    "print(\"결과 값 : \")\n",
    "for i in result:\n",
    "    if i == float('inf'):\n",
    "        print('INF')\n",
    "    else:\n",
    "        print(i)\n"
   ]
  },
  {
   "cell_type": "code",
   "execution_count": null,
   "metadata": {},
   "outputs": [],
   "source": []
  }
 ],
 "metadata": {
  "kernelspec": {
   "display_name": "Python 3",
   "language": "python",
   "name": "python3"
  },
  "language_info": {
   "codemirror_mode": {
    "name": "ipython",
    "version": 3
   },
   "file_extension": ".py",
   "mimetype": "text/x-python",
   "name": "python",
   "nbconvert_exporter": "python",
   "pygments_lexer": "ipython3",
   "version": "3.8.3"
  }
 },
 "nbformat": 4,
 "nbformat_minor": 4
}
