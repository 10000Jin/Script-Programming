{
 "cells": [
  {
   "cell_type": "markdown",
   "metadata": {},
   "source": [
    "2017136130 최만진"
   ]
  },
  {
   "cell_type": "markdown",
   "metadata": {},
   "source": [
    "mpPool"
   ]
  },
  {
   "cell_type": "code",
   "execution_count": 2,
   "metadata": {},
   "outputs": [
    {
     "name": "stdout",
     "output_type": "stream",
     "text": [
      "[0, 1, 2, 3, 4, 5, 6, 7, 8, 9, 10, 11, 12, 13, 14, 15, 16, 17, 18, 19, 20, 21, 22, 23, 24, 25, 26, 27, 28, 29]\n",
      "작업 시간 = 약 {0}s 12\n"
     ]
    }
   ],
   "source": [
    "from multiprocessing import Pool\n",
    "import time\n",
    "from def_collector import my_func\n",
    "\n",
    "if __name__ == '__main__':\n",
    "    p = Pool(3)\n",
    "    startTime = int(time.time())\n",
    "    print(p.map(my_func, range(0, 30)))\n",
    "    endTime = int(time.time())\n",
    "    print(\"작업 시간 = 약 {0}s\", (endTime - startTime))"
   ]
  },
  {
   "cell_type": "markdown",
   "metadata": {},
   "source": [
    "."
   ]
  },
  {
   "cell_type": "markdown",
   "metadata": {},
   "source": [
    "mpProcess"
   ]
  },
  {
   "cell_type": "code",
   "execution_count": 3,
   "metadata": {},
   "outputs": [
    {
     "name": "stdout",
     "output_type": "stream",
     "text": [
      "작업 시간 = 약 {0}s 5\n"
     ]
    }
   ],
   "source": [
    "import os\n",
    "import time\n",
    "from multiprocessing import Process\n",
    "from def_collector import seconds_timer\n",
    "\n",
    "if __name__ == '__main__':\n",
    "    end_time_list = [5, 5, 5]\n",
    "    procs = []\n",
    "\n",
    "    startTime = int(time.time())\n",
    "    for end_time in end_time_list:\n",
    "        proc = Process(target=seconds_timer, args=(end_time,))\n",
    "        procs.append(proc)\n",
    "        proc.start()\n",
    "\n",
    "    for proc in procs:\n",
    "        proc.join()\n",
    "    endTime = int(time.time())\n",
    "    print(\"작업 시간 = 약 {0}s\", format(endTime - startTime))"
   ]
  },
  {
   "cell_type": "markdown",
   "metadata": {},
   "source": [
    "."
   ]
  },
  {
   "cell_type": "markdown",
   "metadata": {},
   "source": [
    "mpQueue"
   ]
  },
  {
   "cell_type": "code",
   "execution_count": 4,
   "metadata": {},
   "outputs": [],
   "source": [
    "from multiprocessing import Process, Queue\n",
    "import random\n",
    "from def_collector import data_creator, data_consumer\n",
    "\n",
    "\n",
    "if __name__ == '__main__':\n",
    "    q = Queue()\n",
    "    max_data_number = 10\n",
    "    process_creator = Process(target=data_creator, args=(max_data_number, q))\n",
    "    process_consumer = Process(target=data_consumer, args=(q,))\n",
    "    process_creator.start()\n",
    "    process_consumer.start()\n",
    "\n",
    "    q.close()\n",
    "    q.join_thread()\n",
    "\n",
    "    process_creator.join()\n",
    "    process_consumer.join()"
   ]
  }
 ],
 "metadata": {
  "kernelspec": {
   "display_name": "Python 3",
   "language": "python",
   "name": "python3"
  },
  "language_info": {
   "codemirror_mode": {
    "name": "ipython",
    "version": 3
   },
   "file_extension": ".py",
   "mimetype": "text/x-python",
   "name": "python",
   "nbconvert_exporter": "python",
   "pygments_lexer": "ipython3",
   "version": "3.8.3"
  }
 },
 "nbformat": 4,
 "nbformat_minor": 4
}
